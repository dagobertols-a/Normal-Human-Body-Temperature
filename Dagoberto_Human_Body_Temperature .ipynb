{
 "cells": [
  {
   "cell_type": "markdown",
   "metadata": {},
   "source": [
    "# What is the True Normal Human Body Temperature? \n",
    "\n",
    "#### Background\n",
    "\n",
    "The mean normal body temperature was held to be 37$^{\\circ}$C or 98.6$^{\\circ}$F for more than 120 years since it was first conceptualized and reported by Carl Wunderlich in a famous 1868 book. But, is this value statistically correct?"
   ]
  },
  {
   "cell_type": "markdown",
   "metadata": {},
   "source": [
    "<h3>Exercises</h3>\n",
    "\n",
    "<p>In this exercise, you will analyze a dataset of human body temperatures and employ the concepts of hypothesis testing, confidence intervals, and statistical significance.</p>\n",
    "\n",
    "<p>Answer the following questions <b>in this notebook below and submit to your Github account</b>.</p> \n",
    "\n",
    "<ol>\n",
    "<li>  Is the distribution of body temperatures normal? \n",
    "    <ul>\n",
    "    <li> Although this is not a requirement for CLT to hold (read CLT carefully), it gives us some peace of mind that the population may also be normally distributed if we assume that this sample is representative of the population.\n",
    "    </ul>\n",
    "<li>  Is the sample size large? Are the observations independent?\n",
    "    <ul>\n",
    "    <li> Remember that this is a condition for the CLT, and hence the statistical tests we are using, to apply.\n",
    "    </ul>\n",
    "<li>  Is the true population mean really 98.6 degrees F?\n",
    "    <ul>\n",
    "    <li> Would you use a one-sample or two-sample test? Why?\n",
    "    <li> In this situation, is it appropriate to use the $t$ or $z$ statistic? \n",
    "    <li> Now try using the other test. How is the result be different? Why?\n",
    "    </ul>\n",
    "<li>  Draw a small sample of size 10 from the data and repeat both tests. \n",
    "    <ul>\n",
    "    <li> Which one is the correct one to use? \n",
    "    <li> What do you notice? What does this tell you about the difference in application of the $t$ and $z$ statistic?\n",
    "    </ul>\n",
    "<li>  At what temperature should we consider someone's temperature to be \"abnormal\"?\n",
    "    <ul>\n",
    "    <li> Start by computing the margin of error and confidence interval.\n",
    "    </ul>\n",
    "<li>  Is there a significant difference between males and females in normal temperature?\n",
    "    <ul>\n",
    "    <li> What test did you use and why?\n",
    "    <li> Write a story with your conclusion in the context of the original problem.\n",
    "    </ul>\n",
    "</ol>\n",
    "\n",
    "You can include written notes in notebook cells using Markdown: \n",
    "   - In the control panel at the top, choose Cell > Cell Type > Markdown\n",
    "   - Markdown syntax: http://nestacms.com/docs/creating-content/markdown-cheat-sheet\n",
    "\n",
    "#### Resources\n",
    "\n",
    "+ Information and data sources: http://www.amstat.org/publications/jse/datasets/normtemp.txt, http://www.amstat.org/publications/jse/jse_data_archive.htm\n",
    "+ Markdown syntax: http://nestacms.com/docs/creating-content/markdown-cheat-sheet\n",
    "\n",
    "****"
   ]
  },
  {
   "cell_type": "markdown",
   "metadata": {},
   "source": [
    "# General description of our dataset "
   ]
  },
  {
   "cell_type": "code",
   "execution_count": 823,
   "metadata": {},
   "outputs": [],
   "source": [
    "import pandas as pd\n",
    "import matplotlib.pyplot as plt\n",
    "import numpy as np\n",
    "import seaborn as sns\n",
    "from scipy import stats\n",
    "%matplotlib inline\n",
    "\n",
    "\n",
    "df = pd.read_csv('data/human_body_temperature.csv')"
   ]
  },
  {
   "cell_type": "code",
   "execution_count": 824,
   "metadata": {
    "scrolled": true
   },
   "outputs": [
    {
     "name": "stdout",
     "output_type": "stream",
     "text": [
      "<class 'pandas.core.frame.DataFrame'>\n",
      "RangeIndex: 130 entries, 0 to 129\n",
      "Data columns (total 3 columns):\n",
      "temperature    130 non-null float64\n",
      "gender         130 non-null object\n",
      "heart_rate     130 non-null float64\n",
      "dtypes: float64(2), object(1)\n",
      "memory usage: 3.1+ KB\n"
     ]
    }
   ],
   "source": [
    "df.info()"
   ]
  },
  {
   "cell_type": "markdown",
   "metadata": {},
   "source": [
    "There is not null values for this dataset"
   ]
  },
  {
   "cell_type": "code",
   "execution_count": 825,
   "metadata": {
    "scrolled": true
   },
   "outputs": [
    {
     "data": {
      "text/html": [
       "<div>\n",
       "<style>\n",
       "    .dataframe thead tr:only-child th {\n",
       "        text-align: right;\n",
       "    }\n",
       "\n",
       "    .dataframe thead th {\n",
       "        text-align: left;\n",
       "    }\n",
       "\n",
       "    .dataframe tbody tr th {\n",
       "        vertical-align: top;\n",
       "    }\n",
       "</style>\n",
       "<table border=\"1\" class=\"dataframe\">\n",
       "  <thead>\n",
       "    <tr style=\"text-align: right;\">\n",
       "      <th></th>\n",
       "      <th>temperature</th>\n",
       "      <th>gender</th>\n",
       "      <th>heart_rate</th>\n",
       "    </tr>\n",
       "  </thead>\n",
       "  <tbody>\n",
       "    <tr>\n",
       "      <th>75</th>\n",
       "      <td>98.8</td>\n",
       "      <td>M</td>\n",
       "      <td>78.0</td>\n",
       "    </tr>\n",
       "    <tr>\n",
       "      <th>87</th>\n",
       "      <td>98.0</td>\n",
       "      <td>M</td>\n",
       "      <td>78.0</td>\n",
       "    </tr>\n",
       "    <tr>\n",
       "      <th>127</th>\n",
       "      <td>98.2</td>\n",
       "      <td>F</td>\n",
       "      <td>73.0</td>\n",
       "    </tr>\n",
       "  </tbody>\n",
       "</table>\n",
       "</div>"
      ],
      "text/plain": [
       "     temperature gender  heart_rate\n",
       "75          98.8      M        78.0\n",
       "87          98.0      M        78.0\n",
       "127         98.2      F        73.0"
      ]
     },
     "execution_count": 825,
     "metadata": {},
     "output_type": "execute_result"
    }
   ],
   "source": [
    "# Searching for duplicates\n",
    "df[df.duplicated()] "
   ]
  },
  {
   "cell_type": "markdown",
   "metadata": {},
   "source": [
    "Due to the nature of this dataset, duplicate values  can be possible.\n",
    "Next question could be: are there outliers?\n",
    "Another interesting questions is if these duplicate entries are  outliers.\n",
    "Let us explore the temperature column with boxplot "
   ]
  },
  {
   "cell_type": "code",
   "execution_count": 826,
   "metadata": {
    "scrolled": true
   },
   "outputs": [
    {
     "data": {
      "text/plain": [
       "Text(0,0.5,'Temperature')"
      ]
     },
     "execution_count": 826,
     "metadata": {},
     "output_type": "execute_result"
    },
    {
     "data": {
      "image/png": "[encoded data removed]",
      "text/plain": [
       "<matplotlib.figure.Figure at 0x1a196f3828>"
      ]
     },
     "metadata": {},
     "output_type": "display_data"
    }
   ],
   "source": [
    "sns.boxplot(data=df.temperature, orient=\"v\")\n",
    "plt.ylabel(\"Temperature\")"
   ]
  },
  {
   "cell_type": "markdown",
   "metadata": {},
   "source": [
    "From the above figure it seems that we have outliers"
   ]
  },
  {
   "cell_type": "code",
   "execution_count": 827,
   "metadata": {
    "scrolled": true
   },
   "outputs": [
    {
     "data": {
      "text/html": [
       "<div>\n",
       "<style>\n",
       "    .dataframe thead tr:only-child th {\n",
       "        text-align: right;\n",
       "    }\n",
       "\n",
       "    .dataframe thead th {\n",
       "        text-align: left;\n",
       "    }\n",
       "\n",
       "    .dataframe tbody tr th {\n",
       "        vertical-align: top;\n",
       "    }\n",
       "</style>\n",
       "<table border=\"1\" class=\"dataframe\">\n",
       "  <thead>\n",
       "    <tr style=\"text-align: right;\">\n",
       "      <th></th>\n",
       "      <th>temperature</th>\n",
       "      <th>gender</th>\n",
       "      <th>heart_rate</th>\n",
       "    </tr>\n",
       "  </thead>\n",
       "  <tbody>\n",
       "    <tr>\n",
       "      <th>39</th>\n",
       "      <td>96.4</td>\n",
       "      <td>F</td>\n",
       "      <td>69.0</td>\n",
       "    </tr>\n",
       "    <tr>\n",
       "      <th>116</th>\n",
       "      <td>100.8</td>\n",
       "      <td>F</td>\n",
       "      <td>77.0</td>\n",
       "    </tr>\n",
       "    <tr>\n",
       "      <th>125</th>\n",
       "      <td>96.3</td>\n",
       "      <td>M</td>\n",
       "      <td>70.0</td>\n",
       "    </tr>\n",
       "  </tbody>\n",
       "</table>\n",
       "</div>"
      ],
      "text/plain": [
       "     temperature gender  heart_rate\n",
       "39          96.4      F        69.0\n",
       "116        100.8      F        77.0\n",
       "125         96.3      M        70.0"
      ]
     },
     "execution_count": 827,
     "metadata": {},
     "output_type": "execute_result"
    }
   ],
   "source": [
    " # Outliers function \n",
    "from scipy.stats import zscore\n",
    "def outliers(column,threshold=1):# This function return outliers for a given column\n",
    "    \"\"\"\n",
    "    The variable column is the column  we are interested, threshold defines if a point is an outlier.\n",
    "    zscore calculate the z score of each entry of our column\n",
    "    this function return a boolean array where True mean that the point is an outlier\n",
    "    \"\"\"\n",
    "    return ( zscore(column)< -threshold) | (zscore(column) > threshold) \n",
    "df[outliers(df.temperature,threshold=2.5)] # outliers associated to temperature for a threshold=2.5"
   ]
  },
  {
   "cell_type": "markdown",
   "metadata": {},
   "source": [
    "From above results we can conclude:\n",
    "1. These temperature outliers need further investigation(Usually temperatures around 96 F can be considered hypothermia and a temperature over 100.4 F are considered fever)\n",
    "2. Duplicates values are not outliers"
   ]
  },
  {
   "cell_type": "code",
   "execution_count": 828,
   "metadata": {},
   "outputs": [
    {
     "data": {
      "text/html": [
       "<div>\n",
       "<style>\n",
       "    .dataframe thead tr:only-child th {\n",
       "        text-align: right;\n",
       "    }\n",
       "\n",
       "    .dataframe thead th {\n",
       "        text-align: left;\n",
       "    }\n",
       "\n",
       "    .dataframe tbody tr th {\n",
       "        vertical-align: top;\n",
       "    }\n",
       "</style>\n",
       "<table border=\"1\" class=\"dataframe\">\n",
       "  <thead>\n",
       "    <tr style=\"text-align: right;\">\n",
       "      <th></th>\n",
       "      <th>temperature</th>\n",
       "      <th>gender</th>\n",
       "      <th>heart_rate</th>\n",
       "    </tr>\n",
       "  </thead>\n",
       "  <tbody>\n",
       "  </tbody>\n",
       "</table>\n",
       "</div>"
      ],
      "text/plain": [
       "Empty DataFrame\n",
       "Columns: [temperature, gender, heart_rate]\n",
       "Index: []"
      ]
     },
     "execution_count": 828,
     "metadata": {},
     "output_type": "execute_result"
    }
   ],
   "source": [
    "# Outliers for heart rate\n",
    "df[outliers(df.heart_rate,threshold=2.5)] "
   ]
  },
  {
   "cell_type": "markdown",
   "metadata": {},
   "source": [
    "heart_rate outliers, in this case there are not outliers for heart rate"
   ]
  },
  {
   "cell_type": "markdown",
   "metadata": {},
   "source": [
    "# Is the distribution of body temperatures normal?"
   ]
  },
  {
   "cell_type": "code",
   "execution_count": 829,
   "metadata": {
    "scrolled": true
   },
   "outputs": [
    {
     "data": {
      "image/png": "[encoded data removed]",
      "text/plain": [
       "<matplotlib.figure.Figure at 0x1a194f0e48>"
      ]
     },
     "metadata": {},
     "output_type": "display_data"
    }
   ],
   "source": [
    "# Histogram\n",
    "plt.hist(df.temperature,normed = True,bins= 10) # Histogram for the temperature column\n",
    "plt.xlabel(\"Temperature\")\n",
    "plt.ylabel(\"Frequency\")\n",
    "plt.margins(0.07)"
   ]
  },
  {
   "cell_type": "markdown",
   "metadata": {},
   "source": [
    "Look like our data is described by a Bell shaped distribution function."
   ]
  },
  {
   "cell_type": "markdown",
   "metadata": {},
   "source": [
    "A way to test normality condition is through Q-Q plot"
   ]
  },
  {
   "cell_type": "code",
   "execution_count": 830,
   "metadata": {
    "scrolled": true
   },
   "outputs": [
    {
     "data": {
      "text/plain": [
       "Text(0.5,1,'Q-Q plot of temperature')"
      ]
     },
     "execution_count": 830,
     "metadata": {},
     "output_type": "execute_result"
    },
    {
     "data": {
      "image/png": "[encoded data removed]",
      "text/plain": [
       "<matplotlib.figure.Figure at 0x1a19041a58>"
      ]
     },
     "metadata": {},
     "output_type": "display_data"
    }
   ],
   "source": [
    "# Mean and standard error(std) for the temperature and heart  rate\n",
    "mean_temp, std_temp = np.mean(df.temperature),np.std(df.temperature)\n",
    "mean_heart_r, std_heart_r = np.mean(df.heart_rate),np.std(df.heart_rate)\n",
    "\n",
    "# sorted list of temperatures\n",
    "temp_sorted = sorted(df.temperature) \n",
    "\n",
    "np.random.seed(22) # random seed\n",
    "# Sorted list of normally distributed data with the same mean, std and number of points than the temperature column\n",
    "normal_dist =sorted(np.random.normal(mean_temp, std_temp,len(df.temperature)))\n",
    "# Q-Q plot\n",
    "_ = plt.plot(temp_sorted,normal_dist, marker='.',linestyle = \"none\",color = \"red\",markersize = 3)\n",
    "plt.xlabel(\"Temperature sorted\")\n",
    "plt.ylabel(\"Normal distribution sorted\")\n",
    "plt.title(\"Q-Q plot of temperature\")"
   ]
  },
  {
   "cell_type": "markdown",
   "metadata": {},
   "source": [
    "From the previous figure we can see a linear relation between temperature quantile and normal quantile, so, our data can be described by a normal distribution.\n",
    "\n",
    "Another way to check normality is by using  cumulative distribution functions(ecdf)"
   ]
  },
  {
   "cell_type": "code",
   "execution_count": 831,
   "metadata": {
    "collapsed": true
   },
   "outputs": [],
   "source": [
    "def ecdf(data):\n",
    "    \"\"\"\n",
    "    This function(cumulative distribution function) return a \n",
    "    sorted list of data(x) and these percentiles(y)\n",
    "    \"\"\"\n",
    "    n = len(data)\n",
    "    # x-data for the ECDF: x\n",
    "    x  = np.sort(data)\n",
    "\n",
    "    # y-data for the ECDF: y\n",
    "    y = np.arange(1, n+1) / n\n",
    "    return x, y"
   ]
  },
  {
   "cell_type": "code",
   "execution_count": 832,
   "metadata": {
    "scrolled": true
   },
   "outputs": [
    {
     "data": {
      "image/png": "[encoded data removed]",
      "text/plain": [
       "<matplotlib.figure.Figure at 0x1a19041cf8>"
      ]
     },
     "metadata": {},
     "output_type": "display_data"
    }
   ],
   "source": [
    "# ecdf for the temperature\n",
    "sample_temp, sample_quantile = ecdf(df.temperature)\n",
    "# ecdf for a normal distribution with the same mean, std and number of data points than temperature\n",
    "temp_normal,normal_quantile= ecdf(normal_dist)\n",
    "# Plot of temperature ecdf\n",
    "_ = plt.plot(sample_temp, sample_quantile , marker='.',linestyle = \"none\",alpha = 2)\n",
    "# Plot of normal ecdf\n",
    "_ = plt.plot(temp_normal,normal_quantile, marker='.',color = \"red\",markersize = 1)\n",
    "plt.xlabel(\"Temperature\")\n",
    "plt.ylabel(\"Percentile\")\n",
    "plt.legend([\"Sample ecdf\",\"Normal ecdf\"])\n",
    "plt.show()"
   ]
  },
  {
   "cell_type": "markdown",
   "metadata": {},
   "source": [
    "Again, it seems that normal distribution is good approximation for our data"
   ]
  },
  {
   "cell_type": "markdown",
   "metadata": {},
   "source": [
    "# Is the sample size large? Are the observations independent?"
   ]
  },
  {
   "cell_type": "markdown",
   "metadata": {},
   "source": [
    "Because our data of temperature is almost normaly distributed, we can say that if the number of observations is larger than 30 the sample is considered large. Let us consider that the subjects of the experiment were chosen randomly."
   ]
  },
  {
   "cell_type": "markdown",
   "metadata": {},
   "source": [
    "# Is the true population mean really 98.6 degrees F?"
   ]
  },
  {
   "cell_type": "markdown",
   "metadata": {},
   "source": [
    "We can approach this question through hypothesis test methods. In this case we need to compare test statistic(mean temperature ) of our sample vs a number(98.6 F), then, one-sample test is an appropriate method.\n",
    "\n",
    "In this situation, is it appropriate to use the  t  or  z  statistic?\n",
    "\n",
    "The standard deviation of our population is unknown, then, we should use t-test \n",
    "\n",
    "$H_{0}$: Null hypothesis True mean = 98.6 F ($\\mu = 98.6$ F)\n",
    "\n",
    "$H_{a}$: Alternative hypothesis True mean different of  98.6 F ($\\mu \\neq 98.6$ F)\n",
    "\n",
    "By using classical t-test "
   ]
  },
  {
   "cell_type": "code",
   "execution_count": 817,
   "metadata": {},
   "outputs": [
    {
     "data": {
      "text/plain": [
       "Ttest_1sampResult(statistic=-5.4548232923645195, pvalue=2.4106320415561276e-07)"
      ]
     },
     "execution_count": 817,
     "metadata": {},
     "output_type": "execute_result"
    }
   ],
   "source": [
    "stats.ttest_1samp(df.temperature,98.6) # classical two sided t-test "
   ]
  },
  {
   "cell_type": "markdown",
   "metadata": {},
   "source": [
    "Now, let us use z-test. Since the number of observations is over 30 both results should be similar. By using same null and alternative hypotheses than above."
   ]
  },
  {
   "cell_type": "code",
   "execution_count": 818,
   "metadata": {},
   "outputs": [
    {
     "name": "stdout",
     "output_type": "stream",
     "text": [
      "P-value is 4.3523151658821886e-08\n"
     ]
    }
   ],
   "source": [
    "def z_test_one_sample(data,reference):\n",
    "    # z score associated to the sampling distribution: \n",
    "    z_score= (np.mean(data) -reference)/(np.std(data)/np.sqrt(len(data)))\n",
    "    # Two-tail p-value\n",
    "    return 2*stats.norm.cdf(z_score)\n",
    "\n",
    "print(\"P-value is {}\".format(z_test_one_sample(df.temperature,98.6)))"
   ]
  },
  {
   "cell_type": "markdown",
   "metadata": {},
   "source": [
    "Let us note that P-value of the z-test is smaller than t-test that is due to t-distribution has a heavier tail compared with the normal distribution."
   ]
  },
  {
   "cell_type": "markdown",
   "metadata": {},
   "source": [
    "Let us use the hacker statistics method of the curriculum"
   ]
  },
  {
   "cell_type": "code",
   "execution_count": 835,
   "metadata": {},
   "outputs": [
    {
     "name": "stdout",
     "output_type": "stream",
     "text": [
      "P-value\n",
      "0.0\n"
     ]
    }
   ],
   "source": [
    "def draw_bs_reps(data, function, size=1):\n",
    "    \"\"\"Draw size bootstrap replicates.\"\"\"\n",
    "\n",
    "    # Initialize array of replicates: bs_replicates\n",
    "    bs_replicates = np.empty(size)\n",
    "\n",
    "    # Generate replicates\n",
    "    for i in range(size):\n",
    "        bs_replicates[i] = function(np.random.choice(data, size=len(data)))\n",
    "\n",
    "    return bs_replicates\n",
    "\n",
    "# New traslated data where the mean value is 98.6 F\n",
    "def one_sample_test(empirical_data,function,number_of_replicates,reference):\n",
    "    simulated_temp = empirical_data -function(empirical_data) + reference\n",
    "    # Take bootstrap replicates of traslated empirical_data: bs_replicates\n",
    "    bs_replicates = draw_bs_reps(simulated_temp, function, number_of_replicates)\n",
    "    \n",
    "    # Compute fraction of replicates that are less than the observed test statistic (function(empirical_data)): p\n",
    "    p = np.sum(bs_replicates <= function(empirical_data)) / number_of_replicates\n",
    "    # return the p-value\n",
    "    return p\n",
    "print(\"P-value\")\n",
    "print(one_sample_test(df.temperature,np.mean,10000,98.6))"
   ]
  },
  {
   "cell_type": "markdown",
   "metadata": {},
   "source": [
    "Since p-values are very small for all above methods we can reject the null hypothesis(mean temperature is not 98.6 F)"
   ]
  },
  {
   "cell_type": "markdown",
   "metadata": {},
   "source": [
    "# Draw a small sample of size 10 from the data and repeat both tests\n",
    "Which one is the correct one to use?\n",
    "What do you notice? What does this tell you about the difference in application of the  tt  and  zz  statistic?"
   ]
  },
  {
   "cell_type": "markdown",
   "metadata": {},
   "source": [
    "Now we have a small sample with unknown standard deviation. In this case t-test is more appropriate(same hypothesis than previous exercise). "
   ]
  },
  {
   "cell_type": "code",
   "execution_count": 841,
   "metadata": {},
   "outputs": [
    {
     "name": "stdout",
     "output_type": "stream",
     "text": [
      "P-value: 0.16189396419359592\n"
     ]
    }
   ],
   "source": [
    "np.random.seed(12)\n",
    "# Number of samples\n",
    "N_small_samples = 10 \n",
    "# Random sample from our data \n",
    "small_sample = np.random.choice(df.temperature, size = N_small_samples)\n",
    "print(\"P-value: {}\".format(stats.ttest_1samp(small_sample,98.6)[1]))"
   ]
  },
  {
   "cell_type": "code",
   "execution_count": 844,
   "metadata": {},
   "outputs": [
    {
     "name": "stdout",
     "output_type": "stream",
     "text": [
      "P-value: 0.10822457763381935\n"
     ]
    }
   ],
   "source": [
    "# Ztest \n",
    "print(\"P-value: {}\".format(z_test_one_sample(small_sample,98.6)))"
   ]
  },
  {
   "cell_type": "markdown",
   "metadata": {},
   "source": [
    "Essentially the results of t-test and z-test  are similar, this time p-values are greater,so ,we are less confident to reject the null hypothesis. As we mention above, z-test has a smaller p-value because its tail is thinner. En general, p-values are greater when the sample size is small.\n",
    "\n",
    "Now, ten observations are a small number, so, we should expect variability when one chooses different samples of the same size. In the following figure we explore the behavior of the p-values for many samples of size ten."
   ]
  },
  {
   "cell_type": "code",
   "execution_count": 845,
   "metadata": {},
   "outputs": [
    {
     "name": "stdout",
     "output_type": "stream",
     "text": [
      "Mean p-value is :0.25041830515420815\n",
      "Confident interval is: (0.24358173769162703, 0.25725487261678931)\n"
     ]
    },
    {
     "data": {
      "image/png": "[encoded data removed]",
      "text/plain": [
       "<matplotlib.figure.Figure at 0x1a16e74748>"
      ]
     },
     "metadata": {},
     "output_type": "display_data"
    }
   ],
   "source": [
    "np.random.seed(12)\n",
    "# Generate 1000 random samples of size 10\n",
    "pv = [stats.ttest_1samp(np.random.choice(df.temperature, size = 10),98.6)[1]\\\n",
    "      for _ in range(10000)]\n",
    "# Mean p-value\n",
    "print(\"Mean p-value is :{}\".format(np.mean(pv)))\n",
    "# Confident onterval for this p-value\n",
    "print(\"Confident interval is: {}\".format(stats.t.interval(alpha = 0.99, df= len(pv)-1,loc = np.mean(pv),\\\n",
    "                                           scale = np.std(pv)/np.sqrt(len(pv)))))\n",
    "# Histogram for 1000 samples \n",
    "plt.hist(pv,normed = True) \n",
    "plt.xlabel(\"P-value\")\n",
    "plt.ylabel(\"Frecuency\")\n",
    "plt.show()\n",
    "    "
   ]
  },
  {
   "cell_type": "markdown",
   "metadata": {},
   "source": [
    "The above figure shows how the variability are large when the sample size are  small.\n",
    "\n",
    "But, what is our mean body temperature? "
   ]
  },
  {
   "cell_type": "code",
   "execution_count": 861,
   "metadata": {},
   "outputs": [
    {
     "name": "stdout",
     "output_type": "stream",
     "text": [
      "Mean normal temperature consistent with our data is: 98.24923076923078\n",
      "Confident interval: (98.081756115816447, 98.416705422645109)\n"
     ]
    }
   ],
   "source": [
    "# standard error for the sampling distribution \n",
    "std_sampling = std_temp/(np.sqrt(len(df.temperature)))\n",
    "# Confident interval for 99% of the data\n",
    "print(\"Mean normal temperature consistent with our data is: {}\".format(mean_temp))\n",
    "print(\"Confident interval: {}\".format(stats.t.interval\\\n",
    "                                                        (alpha = 0.99, df= len(df.temperature)-1,loc = mean_temp,scale = std_sampling))) "
   ]
  },
  {
   "cell_type": "markdown",
   "metadata": {},
   "source": [
    "# At what temperature should we consider someone's temperature to be \"abnormal\"?\n",
    "\n",
    "Abnormal temperatures should not be common, our data approximately follows a normal distribution. For this distribution function, any point beyond two standard deviations(more that 95% of data) can be considered abnormal(outliers)"
   ]
  },
  {
   "cell_type": "code",
   "execution_count": 801,
   "metadata": {},
   "outputs": [
    {
     "data": {
      "text/plain": [
       "(96.804200016139845, 99.69426152232171)"
      ]
     },
     "execution_count": 801,
     "metadata": {},
     "output_type": "execute_result"
    }
   ],
   "source": [
    "# Confident interval for 95% of the data\n",
    "stats.t.interval(alpha = 0.95, df= len(df.temperature)-1,loc = mean_temp,scale = std_temp) "
   ]
  },
  {
   "cell_type": "markdown",
   "metadata": {},
   "source": [
    "We can define as abnormal any temperature outside the above range, which is consistent with the standard used by physicians."
   ]
  },
  {
   "cell_type": "markdown",
   "metadata": {},
   "source": [
    "# Is there a significant difference between males and females in normal temperature?\n",
    "\n",
    "What test did you use and why?"
   ]
  },
  {
   "cell_type": "code",
   "execution_count": 846,
   "metadata": {},
   "outputs": [
    {
     "data": {
      "image/png": "[encoded data removed]",
      "text/plain": [
       "<matplotlib.figure.Figure at 0x1a18dcf550>"
      ]
     },
     "metadata": {},
     "output_type": "display_data"
    }
   ],
   "source": [
    "# Create boxplots for temperature by gender:\n",
    "sns.boxplot(x='gender', y='temperature', data=df)\n",
    "plt.xlabel('Gender',fontsize = 15)\n",
    "plt.ylabel('Temperature ($^\\circ$F)',fontsize = 15)\n",
    "plt.title('Female & Male Body Temperatures', fontsize=20)\n",
    "plt.show()"
   ]
  },
  {
   "cell_type": "code",
   "execution_count": 847,
   "metadata": {},
   "outputs": [
    {
     "name": "stdout",
     "output_type": "stream",
     "text": [
      "Tolal number of females in our dataset is 65\n",
      "Tolal number of males in our dataset is 65\n",
      "Female mean is 98.39384615384613F, with a standard error of 0.7377464486428966F\n",
      "Male mean is 98.1046153846154F, with a standard error of 0.6933598841828696F\n",
      "Mean difference of temperatures is 0.289230769230727F\n"
     ]
    }
   ],
   "source": [
    "females_t = df[df.gender == \"F\"]\n",
    "males_t = df[df.gender == \"M\"]\n",
    "females_mean,females_std = np.mean(females_t.temperature),np.std(females_t.temperature)\n",
    "males_mean,males_std = np.mean(males_t.temperature),np.std(males_t.temperature)\n",
    "print(\"Tolal number of females in our dataset is {}\".format(len(females_t)))\n",
    "print(\"Tolal number of males in our dataset is {}\".format(len(males_t)))\n",
    "print(\"Female mean is {}F, with a standard error of {}F\".format(females_mean,females_std))\n",
    "print(\"Male mean is {}F, with a standard error of {}F\".format(males_mean,males_std))\n",
    "print(\"Mean difference of temperatures is {}F\".format(females_mean -males_mean))"
   ]
  },
  {
   "cell_type": "markdown",
   "metadata": {},
   "source": [
    "The above figure and the values of means and standard errors suggest that normal temperature could depend on gender(at least from the statistical point of view).\n",
    "\n",
    "What test did you use and why?\n",
    "\n",
    "In this case our test statistic is the difference of mean temperatures between men and women, in other words, we need to compare mean temperature of two independent samples(women and men) and check if the observed difference is statistically significant or it is just by chance. Then, in this case, two-sample test is an appropriate method.\n",
    "\n",
    "The standard deviation of our populations are unknown, then, we should use t-test \n",
    "\n",
    "$H_{0}$: Null hypothesis there is not difference $\\mu_{men} = \\mu_{women}$\n",
    "\n",
    "$H_{a}$: Alternative hypothesis there is a difference $\\mu_{men} \\neq \\mu_{women}$\n",
    "\n",
    "First let use a classical two sample t-test "
   ]
  },
  {
   "cell_type": "code",
   "execution_count": 848,
   "metadata": {},
   "outputs": [
    {
     "data": {
      "text/plain": [
       "Ttest_indResult(statistic=2.2854345381656112, pvalue=0.023938264182934196)"
      ]
     },
     "execution_count": 848,
     "metadata": {},
     "output_type": "execute_result"
    }
   ],
   "source": [
    "stats.ttest_ind(females_t.temperature, males_t.temperature, equal_var = False)"
   ]
  },
  {
   "cell_type": "markdown",
   "metadata": {},
   "source": [
    "Let us use the hacker statistic method used in the curriculum"
   ]
  },
  {
   "cell_type": "code",
   "execution_count": 849,
   "metadata": {},
   "outputs": [],
   "source": [
    "def permutation_sample(data1, data2):\n",
    "    \"\"\"Return a permutation sample from two data sets.\"\"\"\n",
    "\n",
    "    # Concatenate the data sets:\n",
    "    data = np.concatenate((data1, data2))\n",
    "\n",
    "    # Randonly permute the concatenated array:\n",
    "    permuted_data = np.random.permutation(data)\n",
    "\n",
    "    # Separate the new array into two samples:\n",
    "    permuted_sample_1 = permuted_data[:len(data1)]\n",
    "    permuted_sample_2 = permuted_data[len(data1):]\n",
    "\n",
    "    return permuted_sample_1, permuted_sample_2\n",
    "\n",
    "\n",
    "def draw_permutation_replicates(data_1, data_2, function, size=1):#Draw multiple permutation replicates\n",
    "\n",
    "    # Initialize array of permutation replicates:\n",
    "    permutation_replicates = np.empty(size)\n",
    "\n",
    "    for i in range(size):\n",
    "        # Generate permutation samples:\n",
    "        permutation_sample_1, permutation_sample_2 = permutation_sample(data_1, data_2)\n",
    "\n",
    "        # Compute the test statistic:\n",
    "        permutation_replicates[i] = function(permutation_sample_1, permutation_sample_2)\n",
    "\n",
    "    return permutation_replicates\n",
    "\n",
    "def two_sample_test(data1,data2,test_statistic,number_of_replicates):\n",
    "    np.random.seed(12)\n",
    "    # test statistic of our two sample test\n",
    "    our_sample_difference = test_statistic(data1,data2)\n",
    "    # Generate a list of replicates \n",
    "    permutation_replicates = draw_permutation_replicates(data1, data2, test_statistic, size=number_of_replicates)\n",
    "    \n",
    "    # Compute fraction of replicates that are greater than the observed test statistic\n",
    "    p = np.sum(permutation_replicates >= our_sample_difference) / len(permutation_replicates)\n",
    "    # return the p-value\n",
    "    return p\n",
    "\n",
    "def difference_of_means(data_1, data_2):#Return the difference in means of two arrays\n",
    "\n",
    "    # The difference of means of data_1, data_2:\n",
    "    return np.mean(data_1) - np.mean(data_2)"
   ]
  },
  {
   "cell_type": "code",
   "execution_count": 850,
   "metadata": {},
   "outputs": [
    {
     "name": "stdout",
     "output_type": "stream",
     "text": [
      "P-values:0.0122\n"
     ]
    }
   ],
   "source": [
    "# P-value for test statistic associated to females_t.temperature and males_t.temperature \n",
    "print(\"P-values:{}\".format(two_sample_test(females_t.temperature,\\\n",
    "                                           males_t.temperature,difference_of_means,10000)))"
   ]
  },
  {
   "cell_type": "markdown",
   "metadata": {},
   "source": [
    "From above two methods we can conclude there is a statistical significant difference in normal temperatures associated to gender. Although this difference seems small(less than 1 F) it could have practical importance because this tiny difference could be consequence of the differences in the anatomy  and physiology between men and women."
   ]
  },
  {
   "cell_type": "markdown",
   "metadata": {},
   "source": [
    "# Revisiting the question: Is the distribution of body temperatures normal?\n",
    "\n",
    "Let us use the above hypothesis test method to check if our data of temperature comes from a normal distribution.\n",
    "\n",
    "Null hypothesis: Our data follows a normal distribution\n",
    "\n",
    "Alternative hypothesis: not null hypothesis"
   ]
  },
  {
   "cell_type": "code",
   "execution_count": 852,
   "metadata": {},
   "outputs": [
    {
     "name": "stdout",
     "output_type": "stream",
     "text": [
      "p-value:0.6103\n"
     ]
    }
   ],
   "source": [
    "# Normal distributed data with the same mean and standard error that our data(temperature)\n",
    "rvs = stats.norm.rvs(loc = mean_temp, scale = std_temp,size=5000)\n",
    "print(\"p-value:{}\".format(two_sample_test(rvs,df.temperature,difference_of_means,10000)))"
   ]
  },
  {
   "cell_type": "markdown",
   "metadata": {},
   "source": [
    "The above p-value is high, so, we fail to reject the null hypothesis. There is not statistical evidence that our data does not come from a normal distribution. Although this does not prove that our data follows a normal distribution it is consistent with graphical methods used previously."
   ]
  },
  {
   "cell_type": "markdown",
   "metadata": {},
   "source": [
    "# Conclusions"
   ]
  },
  {
   "cell_type": "markdown",
   "metadata": {},
   "source": [
    "* By using graphical  and hypothesis test methods we show that our data can be described approximately by a normal distribution.\n",
    "* Classical one-sample hypothesis test(t-test and z-test) and hacker statistic methods show that our data **does not** have a normal temperature of 98.6 F. Instead, our normal body temperature is in the range of 98.0 F to 98.4 F with 99% of confidence.\n",
    "* Also, even for sub-samples of size ten one can show that 98.6 F is a wrong value for the mean body temperature. Although, this time p-values are greater.\n",
    "* Here, we identify abnormal temperature with outliers. Where, we define outliers as values that are outside of the 95% range of variation of our data. \n",
    "* Although tiny, there is a statistical difference in temperature associated to gender."
   ]
  }
 ],
 "metadata": {
  "kernelspec": {
   "display_name": "Python 3",
   "language": "python",
   "name": "python3"
  },
  "language_info": {
   "codemirror_mode": {
    "name": "ipython",
    "version": 3
   },
   "file_extension": ".py",
   "mimetype": "text/x-python",
   "name": "python",
   "nbconvert_exporter": "python",
   "pygments_lexer": "ipython3",
   "version": "3.6.3"
  }
 },
 "nbformat": 4,
 "nbformat_minor": 1
}
